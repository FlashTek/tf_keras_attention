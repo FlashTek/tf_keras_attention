{
 "cells": [
  {
   "cell_type": "code",
   "execution_count": 1,
   "metadata": {
    "ExecuteTime": {
     "end_time": "2018-06-05T22:10:28.098082Z",
     "start_time": "2018-06-05T22:10:18.134598Z"
    }
   },
   "outputs": [
    {
     "name": "stderr",
     "output_type": "stream",
     "text": [
      "C:\\Users\\Roland\\Anaconda3\\lib\\site-packages\\h5py\\__init__.py:36: FutureWarning: Conversion of the second argument of issubdtype from `float` to `np.floating` is deprecated. In future, it will be treated as `np.float64 == np.dtype(float).type`.\n",
      "  from ._conv import register_converters as _register_converters\n",
      "Using TensorFlow backend.\n"
     ]
    }
   ],
   "source": [
    "import numpy as np\n",
    "from keras.datasets import cifar10\n",
    "from sklearn.preprocessing import OneHotEncoder\n",
    "from tqdm import tqdm_notebook as tqdm\n",
    "from keras.layers import Layer, Input, Conv2D, MaxPool2D, Flatten, Dense, Reshape\n",
    "from keras.models import Model\n",
    "from src.gaussian_attention_layer import VisualAttentionLayer"
   ]
  },
  {
   "cell_type": "markdown",
   "metadata": {},
   "source": [
    "### Load data"
   ]
  },
  {
   "cell_type": "code",
   "execution_count": 9,
   "metadata": {
    "ExecuteTime": {
     "end_time": "2018-06-05T22:13:44.382728Z",
     "start_time": "2018-06-05T22:13:42.574730Z"
    },
    "collapsed": true
   },
   "outputs": [],
   "source": [
    "(x_train, y_train), (x_test, y_test) = cifar10.load_data()\n",
    "oh_enc = OneHotEncoder(n_values=10, sparse=False)\n",
    "y_train = oh_enc.fit_transform(y_train)\n",
    "y_test = oh_enc.transform(y_test)\n",
    "\n",
    "x_train = x_train/128.0-1.0\n",
    "x_test = x_test/128.0-1.0"
   ]
  },
  {
   "cell_type": "markdown",
   "metadata": {},
   "source": [
    "### Create Model"
   ]
  },
  {
   "cell_type": "code",
   "execution_count": 10,
   "metadata": {
    "ExecuteTime": {
     "end_time": "2018-06-05T22:13:44.648731Z",
     "start_time": "2018-06-05T22:13:44.383733Z"
    }
   },
   "outputs": [
    {
     "name": "stdout",
     "output_type": "stream",
     "text": [
      "__________________________________________________________________________________________________\n",
      "Layer (type)                    Output Shape         Param #     Connected to                     \n",
      "==================================================================================================\n",
      "input_4 (InputLayer)            (None, 32, 32, 3)    0                                            \n",
      "__________________________________________________________________________________________________\n",
      "conv2d_14 (Conv2D)              (None, 30, 30, 64)   1792        input_4[0][0]                    \n",
      "__________________________________________________________________________________________________\n",
      "max_pooling2d_11 (MaxPooling2D) (None, 15, 15, 64)   0           conv2d_14[0][0]                  \n",
      "__________________________________________________________________________________________________\n",
      "conv2d_15 (Conv2D)              (None, 13, 13, 64)   36928       max_pooling2d_11[0][0]           \n",
      "__________________________________________________________________________________________________\n",
      "max_pooling2d_12 (MaxPooling2D) (None, 6, 6, 64)     0           conv2d_15[0][0]                  \n",
      "__________________________________________________________________________________________________\n",
      "flatten_7 (Flatten)             (None, 2304)         0           max_pooling2d_12[0][0]           \n",
      "__________________________________________________________________________________________________\n",
      "dense_7 (Dense)                 (None, 6)            13830       flatten_7[0][0]                  \n",
      "__________________________________________________________________________________________________\n",
      "visual_attention_layer_4 (Visua (None, 20, 20, 3)    0           input_4[0][0]                    \n",
      "                                                                 dense_7[0][0]                    \n",
      "__________________________________________________________________________________________________\n",
      "conv2d_16 (Conv2D)              (None, 18, 18, 64)   1792        visual_attention_layer_4[0][0]   \n",
      "__________________________________________________________________________________________________\n",
      "max_pooling2d_13 (MaxPooling2D) (None, 9, 9, 64)     0           conv2d_16[0][0]                  \n",
      "__________________________________________________________________________________________________\n",
      "conv2d_17 (Conv2D)              (None, 7, 7, 64)     36928       max_pooling2d_13[0][0]           \n",
      "__________________________________________________________________________________________________\n",
      "flatten_8 (Flatten)             (None, 3136)         0           conv2d_17[0][0]                  \n",
      "__________________________________________________________________________________________________\n",
      "dense_8 (Dense)                 (None, 10)           31370       flatten_8[0][0]                  \n",
      "==================================================================================================\n",
      "Total params: 122,640\n",
      "Trainable params: 122,640\n",
      "Non-trainable params: 0\n",
      "__________________________________________________________________________________________________\n"
     ]
    }
   ],
   "source": [
    "inputs = Input(shape=(32,32,3))\n",
    "\n",
    "x = Conv2D(64, kernel_size=(3,3), activation=\"relu\")(inputs)\n",
    "x = MaxPool2D()(x)\n",
    "x = Conv2D(64, kernel_size=(3,3), activation=\"relu\")(x)\n",
    "x = MaxPool2D()(x)\n",
    "x = Flatten()(x)\n",
    "x = Dense(6, activation=\"relu\")(x)\n",
    "x = VisualAttentionLayer(output_dim=(20,20))([inputs, x])\n",
    "\n",
    "x = Conv2D(64, kernel_size=(3,3), activation=\"relu\")(x)\n",
    "x = MaxPool2D()(x)\n",
    "x = Conv2D(64, kernel_size=(3,3), activation=\"relu\")(x)\n",
    "x = Flatten()(x)\n",
    "predictions = Dense(10, activation='softmax')(x)\n",
    "\n",
    "model = Model(inputs=inputs, outputs=predictions)\n",
    "model.compile(optimizer='rmsprop',\n",
    "              loss='categorical_crossentropy',\n",
    "              metrics=['accuracy'])\n",
    "model.summary()"
   ]
  },
  {
   "cell_type": "markdown",
   "metadata": {
    "ExecuteTime": {
     "end_time": "2018-06-05T22:06:59.017300Z",
     "start_time": "2018-06-05T22:06:59.014298Z"
    }
   },
   "source": [
    "### Train the Model"
   ]
  },
  {
   "cell_type": "code",
   "execution_count": 12,
   "metadata": {
    "ExecuteTime": {
     "end_time": "2018-06-05T22:15:37.356058Z",
     "start_time": "2018-06-05T22:14:24.766349Z"
    }
   },
   "outputs": [
    {
     "name": "stdout",
     "output_type": "stream",
     "text": [
      "Train on 50000 samples, validate on 10000 samples\n",
      "Epoch 1/5\n",
      " - 15s - loss: 1.2769 - acc: 0.5512 - val_loss: 1.3119 - val_acc: 0.5489\n",
      "Epoch 2/5\n",
      " - 14s - loss: 1.1688 - acc: 0.5913 - val_loss: 1.2212 - val_acc: 0.5865\n",
      "Epoch 3/5\n",
      " - 14s - loss: 1.1024 - acc: 0.6181 - val_loss: 1.1458 - val_acc: 0.6033\n",
      "Epoch 4/5\n",
      " - 14s - loss: 1.0520 - acc: 0.6366 - val_loss: 1.3841 - val_acc: 0.5381\n",
      "Epoch 5/5\n",
      " - 15s - loss: 1.0168 - acc: 0.6481 - val_loss: 1.1687 - val_acc: 0.6009\n"
     ]
    }
   ],
   "source": [
    "history = model.fit(x_train, y_train, epochs=5, batch_size=32, verbose=2, validation_data=(x_test, y_test))  "
   ]
  },
  {
   "cell_type": "code",
   "execution_count": null,
   "metadata": {
    "collapsed": true
   },
   "outputs": [],
   "source": []
  }
 ],
 "metadata": {
  "kernelspec": {
   "display_name": "Python 3",
   "language": "python",
   "name": "python3"
  },
  "language_info": {
   "codemirror_mode": {
    "name": "ipython",
    "version": 3
   },
   "file_extension": ".py",
   "mimetype": "text/x-python",
   "name": "python",
   "nbconvert_exporter": "python",
   "pygments_lexer": "ipython3",
   "version": "3.6.3"
  }
 },
 "nbformat": 4,
 "nbformat_minor": 2
}
